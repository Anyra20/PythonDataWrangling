{
 "cells": [
  {
   "cell_type": "markdown",
   "metadata": {},
   "source": [
    "# Project: Data Wrangling with Twitter data\n",
    "\n",
    "In this project I was working with the data from the Twitter account WeRateDogs® that rates other people's dogs in a funny way. Later I combined tweets data with image prediction data made on photos from the posts.<br>\n",
    "\n",
    "First, I gathered data from 3 different places:\n",
    " - tweets archive data was downloaded from csv file\n",
    " - tweet image predictions data was downloaded as tsv file from Udacity's servers programmatically using the Requests library\n",
    " - additional tweet data (retweet count and favorite count) was downloaded from Twitter using Tweepy to query Twitter's API. Using tweet_id from archive data I requested tweet data from Twitter programmatically in Json format and stored the date in tweet_json.txt file. Later I downloaded data back and gathered retweet count and favorite count into the panda dataframe.\n",
    "\n",
    "Second, I assessed gathered data both visually and programmatically for all three datasets separately.<br>\n",
    "\n",
    "Then, I cleaned the following issues:<br>\n",
    "\n",
    "### Quality:\n",
    "\n",
    "##### df_archive_copy table\n",
    "1) Columns to delete: *timestamp, source, expanded_urls, name* - this data is not needed for analysis<br>\n",
    "2) Delete replies and retweets<br>\n",
    "Some tweets in the archive dataset are retweets or replies, they do not have dog rating data.\n",
    "Delete records with not null data in these columns:\n",
    "- *in_reply_to_status_id*\n",
    "- *in_reply_to_user_id*\n",
    "- *retweeted_status_id*\n",
    "- *retweeted_status_user_id*\n",
    "- *retweeted_status_timestamp*\n",
    "\n",
    "Drop those columns, because they are all equal null for original tweets records <br>\n",
    "\n",
    "3) Clean *rating_denominator* column\n",
    "- Set *rating_denominator* = 10 where rating_denominator !=10 but text column has correct rating\n",
    "- Records with *rating_denominator* !=10 are not ratings of one dog, drop these records\n",
    "- Drop *rating_denominator* column, because it has 10 in all rows\n",
    "\n",
    "4) Clean *rating_numerator* column\n",
    "- Change type of *rating_numerator* as decimal (som rating re like 13.5)\n",
    "- Extract *rating_numerator* from tweet text\n",
    "\n",
    "5) Clean *doggo, floofer, pupper, puppo* columns\n",
    "- Extract dog stage from tweet text for *doggo, floofer, pupper, puppo* columns\n",
    "- Convert all dog stages name to lowercase\n",
    "- Combine *doggo, floofer, pupper, puppo* in one dog_stage column \n",
    "- Drop column *text* as not needed any more\n",
    "\n",
    "##### df_predictions_copy table\n",
    "1) Columns to delete: *jpg_url,img_num*<br>\n",
    "2) Rename columns p1,p2,p3, p1_conf,p2_conf,p3_conf, p1_dog,p2_dog,p3_dog as not obvious column names<br>\n",
    "3) Convert all columns with dog breeds to lowercase<br>\n",
    "4) Choose only one most probable prediction with dog flag = True, drop other predictions columns<br>\n",
    "5) Drop all records where dog breed is not predicted (all dog flags = False)<br>\n",
    "\n",
    "### Tidiness:\n",
    "1) Combine cleaned *doggo, floofer, pupper, puppo* columns in one dog_stage column and drop columns *doggo, floofer, pupper, puppo* after that<br>\n",
    "2) Merge all three datasets into one: df_all_tweets\n",
    "Some tweets were deleted from Twitter after tweets were downloaded into archive file and some archive records were cleaned as invalid. Predictions dataset has only records for which dog breed was identified. Only records presented in all three tables will go into the merged table\n",
    "\n",
    "Now I have only one dataset (df_all_tweets) where each record describes one tweet and has an image prediction for it."
   ]
  }
 ],
 "metadata": {
  "kernelspec": {
   "display_name": "Python 3",
   "language": "python",
   "name": "python3"
  },
  "language_info": {
   "codemirror_mode": {
    "name": "ipython",
    "version": 3
   },
   "file_extension": ".py",
   "mimetype": "text/x-python",
   "name": "python",
   "nbconvert_exporter": "python",
   "pygments_lexer": "ipython3",
   "version": "3.7.7"
  }
 },
 "nbformat": 4,
 "nbformat_minor": 4
}
